{
  "cells": [
    {
      "cell_type": "code",
      "execution_count": null,
      "metadata": {
        "id": "G4niMpkkZSiI"
      },
      "outputs": [],
      "source": [
        "import pandas as pd\n",
        "import numpy as np"
      ]
    },
    {
      "cell_type": "code",
      "execution_count": null,
      "metadata": {
        "colab": {
          "base_uri": "https://localhost:8080/"
        },
        "id": "Pqw60fFpZakG",
        "outputId": "7d9eda66-3f99-4fc0-9837-ff51170d556e"
      },
      "outputs": [],
      "source": [
        "\n",
        "from google.colab import drive\n",
        "drive.mount('/content/drive')\n",
        "\n",
        "df = pd.read_csv('/content/drive/My Drive/HEROdata2.csv')\n",
        "\n",
        "print(df.head())\n"
      ]
    },
    {
      "cell_type": "code",
      "execution_count": null,
      "metadata": {
        "id": "boMAZOMBfMzD"
      },
      "outputs": [],
      "source": [
        "\n",
        "null_columns = df.columns[df.isnull().all()]\n",
        "\n",
        "df = df.drop(columns=null_columns)"
      ]
    },
    {
      "cell_type": "code",
      "execution_count": null,
      "metadata": {
        "id": "XDPb8z3Egg0w"
      },
      "outputs": [],
      "source": [
        "df = df.iloc[:, :-1]"
      ]
    },
    {
      "cell_type": "code",
      "execution_count": null,
      "metadata": {
        "id": "Nj8aNvIua_zk"
      },
      "outputs": [],
      "source": [
        "from sklearn.preprocessing import LabelEncoder\n",
        "label_encoder = LabelEncoder()\n",
        "df[\"Label\"] = label_encoder.fit_transform(df[\"Label\"])"
      ]
    },
    {
      "cell_type": "code",
      "execution_count": null,
      "metadata": {
        "colab": {
          "base_uri": "https://localhost:8080/",
          "height": 290
        },
        "id": "x5Su7zDsmij6",
        "outputId": "dd4ae5a3-d95f-42f1-9557-c2042740e331"
      },
      "outputs": [],
      "source": [
        "df.head()"
      ]
    },
    {
      "cell_type": "code",
      "execution_count": null,
      "metadata": {
        "id": "c5cZDn3NmsLd"
      },
      "outputs": [],
      "source": [
        "corr_matrix = df.corr().abs()"
      ]
    },
    {
      "cell_type": "code",
      "execution_count": null,
      "metadata": {
        "id": "26i4YRHgm1zC"
      },
      "outputs": [],
      "source": [
        "upper = corr_matrix.where(np.triu(np.ones(corr_matrix.shape),k=1).astype(bool))\n",
        "\n",
        "# Find index of feature columns with correlation greater than 0.95\n",
        "to_drop = [column for column in upper.columns if any(upper[column] > 0.95)]"
      ]
    },
    {
      "cell_type": "code",
      "execution_count": null,
      "metadata": {
        "id": "bb2uc17unOzR"
      },
      "outputs": [],
      "source": [
        "df = df.drop(df[to_drop], axis=1)"
      ]
    },
    {
      "cell_type": "code",
      "execution_count": null,
      "metadata": {
        "colab": {
          "base_uri": "https://localhost:8080/",
          "height": 308
        },
        "id": "0NrMfprNpHRz",
        "outputId": "ed8b93e4-0c33-422a-80d3-966136f0fb26"
      },
      "outputs": [],
      "source": [
        "df.head()"
      ]
    },
    {
      "cell_type": "code",
      "execution_count": null,
      "metadata": {
        "id": "S_vo5w63bCKU"
      },
      "outputs": [],
      "source": [
        "X = df.drop(columns=[\"Label\"])\n",
        "Y = df[\"Label\"]"
      ]
    },
    {
      "cell_type": "code",
      "execution_count": null,
      "metadata": {
        "colab": {
          "base_uri": "https://localhost:8080/"
        },
        "id": "591KDJYIua6Y",
        "outputId": "4b076acc-69b1-4716-dc3b-177dd355b730"
      },
      "outputs": [],
      "source": [
        "num_columns = df.shape[1]\n",
        "print(\"Number of columns:\", num_columns)"
      ]
    },
    {
      "cell_type": "code",
      "execution_count": null,
      "metadata": {
        "colab": {
          "base_uri": "https://localhost:8080/"
        },
        "id": "C4-jHbaehSyl",
        "outputId": "c145a6bb-795c-4a64-f7e7-e5423b307b93"
      },
      "outputs": [],
      "source": [
        "# prompt: count in labels column no of 0 and 1\n",
        "\n",
        "print(df['Label'].value_counts())\n"
      ]
    },
    {
      "cell_type": "code",
      "execution_count": null,
      "metadata": {
        "colab": {
          "base_uri": "https://localhost:8080/",
          "height": 513
        },
        "id": "DzWSrzE9tTIW",
        "outputId": "c372272c-e1ce-4772-f78d-f81a1eb4b831"
      },
      "outputs": [],
      "source": [
        "import numpy as np\n",
        "import seaborn as sns\n",
        "import matplotlib.pyplot as plt\n",
        "\n",
        "# Remove constant columns\n",
        "df_filtered = df.loc[:, df.nunique() > 1]\n",
        "\n",
        "# Compute correlation matrix\n",
        "corr_matrix = df.drop(columns=[\"Label\"]).corr()\n",
        "\n",
        "# Create an upper triangle mask\n",
        "\n",
        "\n",
        "# Plot heatmap\n",
        "plt.figure(figsize=(14, 10))\n",
        "sns.heatmap(\n",
        "    corr_matrix,\n",
        "    annot=True,\n",
        "    fmt=\".2f\",\n",
        "    cmap=\"coolwarm\",\n",
        "    linewidths=0.5,\n",
        "    annot_kws={\"size\": 8}\n",
        ")\n",
        "\n",
        "plt.title(\"Correlation Matrix Heatmap\", fontsize=14)\n",
        "plt.xticks(rotation=45, ha=\"right\")\n",
        "plt.yticks(rotation=0)\n",
        "plt.show()\n"
      ]
    },
    {
      "cell_type": "code",
      "execution_count": null,
      "metadata": {
        "colab": {
          "base_uri": "https://localhost:8080/"
        },
        "id": "uxfHT5-wUQ8t",
        "outputId": "01775506-1a9a-4cd8-9679-4cdc48b2552f"
      },
      "outputs": [],
      "source": [
        "\n",
        "df.columns\n"
      ]
    },
    {
      "cell_type": "code",
      "execution_count": null,
      "metadata": {
        "id": "Id0FK_denqdb"
      },
      "outputs": [],
      "source": [
        "from sklearn.preprocessing import MinMaxScaler\n",
        "scaler = MinMaxScaler(feature_range=(0, 1))\n",
        "X = scaler.fit_transform(X)"
      ]
    },
    {
      "cell_type": "code",
      "execution_count": null,
      "metadata": {
        "colab": {
          "base_uri": "https://localhost:8080/"
        },
        "id": "dzPJuzbMoTc8",
        "outputId": "a8e14279-c5b6-4e34-b201-d6dc08bcdc05"
      },
      "outputs": [],
      "source": [
        "X"
      ]
    },
    {
      "cell_type": "code",
      "execution_count": null,
      "metadata": {
        "id": "37z_a0c2cCa0"
      },
      "outputs": [],
      "source": [
        "from sklearn.model_selection import train_test_split\n",
        "X_train, X_test, Y_train, Y_test = train_test_split(X , Y, stratify=Y, test_size=0.2, random_state=42)"
      ]
    },
    {
      "cell_type": "code",
      "execution_count": null,
      "metadata": {
        "id": "Praq0gsAc8K4"
      },
      "outputs": [],
      "source": [
        "import tensorflow as tf"
      ]
    },
    {
      "cell_type": "code",
      "execution_count": null,
      "metadata": {
        "id": "5p3S4ltEc-LF"
      },
      "outputs": [],
      "source": [
        "\n",
        "model = tf.keras.models.Sequential()"
      ]
    },
    {
      "cell_type": "code",
      "execution_count": null,
      "metadata": {
        "id": "oF6Vb-y6dJPR"
      },
      "outputs": [],
      "source": [
        "model.add(tf.keras.layers.Dense(units=512 , activation='relu'))"
      ]
    },
    {
      "cell_type": "code",
      "execution_count": null,
      "metadata": {
        "id": "Svx7gtuHdKuX"
      },
      "outputs": [],
      "source": [
        "model.add(tf.keras.layers.Dense(units=256 , activation='relu'))\n",
        "model.add(tf.keras.layers.Dense(units=128 , activation='relu'))\n",
        "model.add(tf.keras.layers.Dense(units=64 , activation='relu'))"
      ]
    },
    {
      "cell_type": "code",
      "execution_count": null,
      "metadata": {
        "id": "wUip7dyYdMT6"
      },
      "outputs": [],
      "source": [
        "model.add(tf.keras.layers.Dense(units=1 , activation='sigmoid'))"
      ]
    },
    {
      "cell_type": "code",
      "execution_count": null,
      "metadata": {
        "id": "8GxjLXfjdOL_"
      },
      "outputs": [],
      "source": [
        "model.compile(optimizer='adam', loss='binary_crossentropy', metrics=['accuracy'])\n"
      ]
    },
    {
      "cell_type": "markdown",
      "metadata": {
        "id": "Z7ewEC2ax_em"
      },
      "source": [
        "TabNet"
      ]
    },
    {
      "cell_type": "code",
      "execution_count": null,
      "metadata": {
        "colab": {
          "base_uri": "https://localhost:8080/"
        },
        "id": "4IkdEbqkuR3x",
        "outputId": "4c11700c-6f1a-4467-af57-0bef32c0a5c0"
      },
      "outputs": [],
      "source": [
        "!pip install pytorch-tabnet"
      ]
    },
    {
      "cell_type": "code",
      "execution_count": null,
      "metadata": {
        "id": "uxEyksYDiup_"
      },
      "outputs": [],
      "source": [
        "from pytorch_tabnet.tab_model import TabNetClassifier\n",
        "import torch"
      ]
    },
    {
      "cell_type": "code",
      "execution_count": null,
      "metadata": {
        "colab": {
          "base_uri": "https://localhost:8080/"
        },
        "id": "mMWUa46NvG79",
        "outputId": "8f453a74-4b4e-4a99-b5d9-21685fc6226a"
      },
      "outputs": [],
      "source": [
        "print(\"NaNs in X_train:\", np.isnan(X_train).sum())\n",
        "print(\"NaNs in X_test:\", np.isnan(X_test).sum())"
      ]
    },
    {
      "cell_type": "code",
      "execution_count": null,
      "metadata": {
        "id": "jtCQJCuAvgPw"
      },
      "outputs": [],
      "source": [
        "from sklearn.impute import SimpleImputer\n",
        "\n",
        "imputer = SimpleImputer(strategy='mean')  # or 'median', 'most_frequent'\n",
        "X_train = imputer.fit_transform(X_train)\n",
        "X_test = imputer.transform(X_test)\n"
      ]
    },
    {
      "cell_type": "code",
      "execution_count": null,
      "metadata": {
        "colab": {
          "base_uri": "https://localhost:8080/"
        },
        "id": "E_5i-ZLNvkwk",
        "outputId": "8d832dfd-d518-4ce2-e460-cd76ad9218c0"
      },
      "outputs": [],
      "source": [
        "print(\"NaNs in X_train after cleaning:\", np.isnan(X_train).sum())\n",
        "print(\"NaNs in X_test after cleaning:\", np.isnan(X_test).sum())\n"
      ]
    },
    {
      "cell_type": "code",
      "execution_count": null,
      "metadata": {
        "colab": {
          "base_uri": "https://localhost:8080/"
        },
        "id": "arv8KQIYvpO0",
        "outputId": "4d4b2bbd-fd6c-459a-88bf-4ea54343ed89"
      },
      "outputs": [],
      "source": [
        "from pytorch_tabnet.tab_model import TabNetClassifier\n",
        "from sklearn.utils.class_weight import compute_class_weight\n",
        "import torch\n",
        "import numpy as np\n",
        "\n",
        "# Preserve original labels\n",
        "y_train_flat = np.array(Y_train).flatten()\n",
        "y_test_flat = np.array(Y_test).flatten()\n",
        "\n",
        "# Compute class weights manually\n",
        "classes = np.unique(y_train_flat)\n",
        "class_weights = compute_class_weight(class_weight='balanced', classes=np.unique(Y_train), y=y_train_flat)\n",
        "class_weights_dict = {int(cls): float(weight) for cls, weight in zip(classes, class_weights)}\n",
        "print(\"Class weights:\", class_weights_dict)\n",
        "\n",
        "# Instantiate TabNetClassifier\n",
        "clf = TabNetClassifier(\n",
        "    n_d=64,\n",
        "    n_a=64,\n",
        "    n_steps=7,\n",
        "    gamma=1.5,\n",
        "    lambda_sparse=1e-4,\n",
        "    optimizer_fn=torch.optim.Adam,\n",
        "    optimizer_params=dict(lr=1e-3),\n",
        "    mask_type='sparsemax',\n",
        "    scheduler_params={\"step_size\": 10, \"gamma\": 0.9},\n",
        "    verbose=1\n",
        ")\n",
        "\n",
        "# Train the model\n",
        "clf.fit(\n",
        "    X_train=X_train,\n",
        "    y_train=y_train_flat,\n",
        "    eval_set=[(X_train, y_train_flat), (X_test, y_test_flat)],\n",
        "    eval_name=['train', 'test'],\n",
        "    eval_metric=['auc', 'balanced_accuracy', 'accuracy'],\n",
        "    max_epochs=200,\n",
        "    patience=50,\n",
        "    batch_size=256,\n",
        "    virtual_batch_size=128,\n",
        "    num_workers=0,\n",
        "    weights=class_weights_dict,\n",
        "    drop_last=False\n",
        ")\n"
      ]
    },
    {
      "cell_type": "code",
      "execution_count": null,
      "metadata": {
        "colab": {
          "base_uri": "https://localhost:8080/",
          "height": 547
        },
        "id": "z4tHuY3ywKo9",
        "outputId": "158cd9c4-7150-4b34-9fb1-254962c21f29"
      },
      "outputs": [],
      "source": [
        "\n",
        "from sklearn.metrics import confusion_matrix\n",
        "import seaborn as sns\n",
        "\n",
        "# ... (your existing code) ...\n",
        "\n",
        "# Predict the labels for the test set\n",
        "y_pred = clf.predict(X_test)\n",
        "\n",
        "# Compute the confusion matrix\n",
        "cm = confusion_matrix(Y_test, y_pred)\n",
        "\n",
        "# Plot the confusion matrix\n",
        "plt.figure(figsize=(8, 6))\n",
        "sns.heatmap(cm, annot=True, fmt='d', cmap='Blues',\n",
        "            xticklabels=['Predicted 0', 'Predicted 1'],\n",
        "            yticklabels=['Actual 0', 'Actual 1'])\n",
        "plt.xlabel('Predicted Labels')\n",
        "plt.ylabel('True Labels')\n",
        "plt.title('Confusion Matrix')\n",
        "plt.show()\n"
      ]
    },
    {
      "cell_type": "code",
      "execution_count": null,
      "metadata": {
        "colab": {
          "base_uri": "https://localhost:8080/"
        },
        "id": "mlhTxrG5BUgd",
        "outputId": "566c6c59-d50a-486d-a569-cc6d41a3c278"
      },
      "outputs": [],
      "source": [
        "# prompt: print accuracy sccore and classfication report for tab net\n",
        "\n",
        "from sklearn.metrics import accuracy_score, classification_report\n",
        "\n",
        "# ... (your existing code) ...\n",
        "\n",
        "# Predict the labels for the test set\n",
        "y_pred = clf.predict(X_test)\n",
        "\n",
        "# Calculate accuracy\n",
        "accuracy = accuracy_score(Y_test, y_pred)\n",
        "print(f\"Accuracy: {accuracy}\")\n",
        "\n",
        "# Generate classification report\n",
        "print(classification_report(Y_test, y_pred))\n"
      ]
    },
    {
      "cell_type": "markdown",
      "metadata": {
        "id": "uyts_6-Nx30Y"
      },
      "source": [
        "Tab Transformer"
      ]
    },
    {
      "cell_type": "code",
      "execution_count": null,
      "metadata": {
        "id": "WVrsrAalx6dB"
      },
      "outputs": [],
      "source": [
        "import torch.nn as nn\n",
        "class TabTransformer(nn.Module):\n",
        "    def __init__(self, num_features, num_classes, dim_embedding=64, num_heads=4, num_layers=4):\n",
        "        super(TabTransformer, self).__init__()\n",
        "        self.embedding = nn.Linear(num_features, dim_embedding)\n",
        "        encoder_layer = nn.TransformerEncoderLayer(d_model=dim_embedding, nhead=num_heads, batch_first=True)\n",
        "        self.transformer = nn.TransformerEncoder(encoder_layer, num_layers=num_layers)\n",
        "        self.classifier = nn.Linear(dim_embedding, num_classes)\n",
        "\n",
        "    def forward(self, x):\n",
        "        x = self.embedding(x)\n",
        "        x = x.unsqueeze(1)  # Adding a sequence length dimension\n",
        "        x = self.transformer(x)\n",
        "        x = torch.mean(x, dim=1)  # Pooling\n",
        "        x = self.classifier(x)\n",
        "        return x"
      ]
    },
    {
      "cell_type": "code",
      "execution_count": null,
      "metadata": {
        "colab": {
          "base_uri": "https://localhost:8080/"
        },
        "id": "-MMEu8eAyGd0",
        "outputId": "13245134-5020-4c7c-d314-5dce269c4e53"
      },
      "outputs": [],
      "source": [
        "import torch.optim as optim\n",
        "# Initialize the model, loss, and optimizer\n",
        "# Assuming X_train is your training data\n",
        "num_features = X_train.shape[1]  # Get the number of features from your data\n",
        "num_classes = len(np.unique(Y_train))  # Get the number of unique classes in your target variable\n",
        "\n",
        "# Initialize the model, loss, and optimizer\n",
        "model = TabTransformer(num_features, num_classes).to(torch.device('cuda' if torch.cuda.is_available() else 'cpu'))\n",
        "criterion = nn.CrossEntropyLoss()\n",
        "optimizer = optim.Adam(model.parameters(), lr=0.001)\n",
        "\n",
        "# Converting data to tensors\n",
        "X_train_tensor = torch.FloatTensor(X_train)\n",
        "y_train_tensor = torch.LongTensor(Y_train)\n",
        "\n",
        "# Training loop\n",
        "for epoch in range(100):\n",
        "    optimizer.zero_grad()\n",
        "    output = model(X_train_tensor)\n",
        "    loss = criterion(output, y_train_tensor)\n",
        "    loss.backward()\n",
        "    optimizer.step()\n",
        "\n",
        "    if epoch % 10 == 0:\n",
        "        print(f'Epoch {epoch}, Loss: {loss.item()}')"
      ]
    },
    {
      "cell_type": "code",
      "execution_count": null,
      "metadata": {
        "colab": {
          "base_uri": "https://localhost:8080/"
        },
        "id": "PQ8HUO5Byofq",
        "outputId": "f311619b-37d4-482c-9052-8b7adf5abcfe"
      },
      "outputs": [],
      "source": [
        "# Switch the model to evaluation mode\n",
        "model.eval()\n",
        "\n",
        "# Disable gradient calculation for evaluation\n",
        "with torch.no_grad():\n",
        "    outputs = model(X_train_tensor)\n",
        "    # For multi-class classification, get the class with the highest score\n",
        "    _, predicted = torch.max(outputs, dim=1)\n",
        "\n",
        "    # Calculate the number of correct predictions\n",
        "    total = y_train_tensor.size(0)\n",
        "    correct = (predicted == y_train_tensor).sum().item()\n",
        "\n",
        "    # Compute accuracy\n",
        "    accuracy = correct / total * 100  # in percentage\n",
        "    print(f'Training Accuracy: {accuracy:.2f}%')\n"
      ]
    },
    {
      "cell_type": "code",
      "execution_count": null,
      "metadata": {
        "colab": {
          "base_uri": "https://localhost:8080/"
        },
        "id": "xyUDDdgo1WxU",
        "outputId": "96317b12-de37-4fec-94b3-9f9da47e46cf"
      },
      "outputs": [],
      "source": [
        "import torch\n",
        "from sklearn.metrics import accuracy_score, classification_report\n",
        "\n",
        "# Convert your test data to PyTorch tensors\n",
        "X_test_tensor = torch.FloatTensor(X_test)\n",
        "y_test_tensor = torch.LongTensor(Y_test)  # FIXED\n",
        "\n",
        "# Switch to evaluation mode\n",
        "model.eval()\n",
        "\n",
        "with torch.no_grad():\n",
        "    # Get model outputs and compute loss on the test set\n",
        "    outputs = model(X_test_tensor)\n",
        "    loss = criterion(outputs, y_test_tensor)\n",
        "\n",
        "    # Get predicted class\n",
        "    _, predicted = torch.max(outputs, dim=1)\n",
        "\n",
        "# Convert to numpy for sklearn\n",
        "y_true = y_test_tensor.cpu().numpy()\n",
        "y_pred = predicted.cpu().numpy()\n",
        "\n",
        "# Metrics\n",
        "accuracy = accuracy_score(y_true, y_pred)\n",
        "report = classification_report(y_true, y_pred)\n",
        "\n",
        "print(f\"Test Loss: {loss.item():.4f}\")\n",
        "print(f\"Test Accuracy: {accuracy * 100:.2f}%\")\n",
        "print(\"Classification Report:\")\n",
        "print(report)\n"
      ]
    },
    {
      "cell_type": "code",
      "execution_count": null,
      "metadata": {
        "colab": {
          "base_uri": "https://localhost:8080/",
          "height": 532
        },
        "id": "-rDGN4to8xoe",
        "outputId": "524f58cf-70b5-4db3-e42d-0b3e9a4c05eb"
      },
      "outputs": [],
      "source": [
        "from sklearn.metrics import confusion_matrix\n",
        "\n",
        "# Assume y_true and y_pred are already computed as numpy arrays\n",
        "cm = confusion_matrix(y_true, y_pred)\n",
        "\n",
        "# For binary classification, the confusion matrix is 2x2:\n",
        "# [ [TN, FP],\n",
        "#   [FN, TP] ]\n",
        "tn, fp, fn, tp = cm.ravel()\n",
        "\n",
        "print(\"True Negatives:\", tn)\n",
        "print(\"False Positives:\", fp)\n",
        "print(\"False Negatives:\", fn)\n",
        "print(\"True Positives:\", tp)\n",
        "\n",
        "print([tn, fp])\n",
        "print([fn, tp])\n",
        "\n",
        "plt.figure(figsize=(6, 4))\n",
        "sns.heatmap(cm, annot=True, fmt='d', cmap='Blues', xticklabels=label_encoder.classes_, yticklabels=label_encoder.classes_)\n",
        "plt.xlabel('Predicted')\n",
        "plt.ylabel('Actual')\n",
        "plt.title('Confusion Matrix')\n"
      ]
    },
    {
      "cell_type": "code",
      "execution_count": null,
      "metadata": {
        "colab": {
          "base_uri": "https://localhost:8080/",
          "height": 517
        },
        "id": "fULBGgcH1flO",
        "outputId": "94d43bde-aec3-4d9a-90cb-0ce2bccf827f"
      },
      "outputs": [],
      "source": [
        "# prompt: use some plot to show the diffence in accuracy of tabnet and tab tranformer\n",
        "\n",
        "import matplotlib.pyplot as plt\n",
        "\n",
        "# Assuming 'tabnet_accuracy' and 'tabtransformer_accuracy' are the accuracy scores you obtained\n",
        "tabnet_accuracy = 0.9780  # Replace with your TabNet accuracy\n",
        "tabtransformer_accuracy = 0.9725 # Replace with your TabTransformer accuracy\n",
        "\n",
        "\n",
        "models = ['TabNet', 'TabTransformer']\n",
        "accuracies = [tabnet_accuracy, tabtransformer_accuracy]\n",
        "\n",
        "plt.figure(figsize=(8, 6))\n",
        "plt.bar(models, accuracies, color=['skyblue', 'lightcoral'])\n",
        "plt.xlabel('Model', fontsize=12)\n",
        "plt.ylabel('Accuracy', fontsize=12)\n",
        "plt.title('Comparison of TabNet and TabTransformer Accuracy', fontsize=14)\n",
        "plt.ylim(0, 1)  # Set y-axis limit to 0-1 for accuracy\n",
        "plt.grid(axis='y', linestyle='--', alpha=0.7)\n",
        "\n",
        "# Add accuracy values on top of each bar\n",
        "for i, v in enumerate(accuracies):\n",
        "  plt.text(i, v + 0.01, f'{v:.2f}', ha='center', va='bottom', fontsize=10)\n",
        "\n",
        "plt.show()\n"
      ]
    }
  ],
  "metadata": {
    "colab": {
      "provenance": []
    },
    "kernelspec": {
      "display_name": "Python 3",
      "name": "python3"
    },
    "language_info": {
      "name": "python"
    }
  },
  "nbformat": 4,
  "nbformat_minor": 0
}
